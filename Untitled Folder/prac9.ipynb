{
 "cells": [
  {
   "cell_type": "markdown",
   "metadata": {},
   "source": [
    "Implement K-means clustring."
   ]
  },
  {
   "cell_type": "code",
   "execution_count": 1,
   "metadata": {},
   "outputs": [
    {
     "name": "stdout",
     "output_type": "stream",
     "text": [
      "Centroids:\n",
      "[[nan nan]\n",
      " [2.5 2. ]]\n",
      "Labels:\n",
      "[1. 1. 1. 1. 1. 1.]\n"
     ]
    },
    {
     "name": "stderr",
     "output_type": "stream",
     "text": [
      "C:\\Users\\NK\\AppData\\Local\\Temp\\ipykernel_37600\\1894322939.py:30: RuntimeWarning: Mean of empty slice.\n",
      "  new_centroids = np.array([X[labels == i].mean(axis=0) for i in range(k)])\n",
      "c:\\ProgramData\\anaconda3\\Lib\\site-packages\\numpy\\core\\_methods.py:184: RuntimeWarning: invalid value encountered in divide\n",
      "  ret = um.true_divide(\n"
     ]
    }
   ],
   "source": [
    "import numpy as np\n",
    "\n",
    "def kmeans(X, k, max_iters=1000):\n",
    "    \"\"\"\n",
    "    K-means clustering algorithm\n",
    "\n",
    "    Parameters:\n",
    "    X (numpy array): data points\n",
    "    k (int): number of clusters\n",
    "    max_iters (int): maximum number of iterations\n",
    "\n",
    "    Returns:\n",
    "    centroids (numpy array): cluster centroids\n",
    "    labels (numpy array): cluster labels for each data point\n",
    "    \"\"\"\n",
    "    # Initialize centroids randomly\n",
    "    centroids = np.random.rand(k, X.shape[1])\n",
    "\n",
    "    # Initialize labels for each data point\n",
    "    labels = np.zeros(X.shape[0])\n",
    "\n",
    "    # Iterate until convergence or max iterations\n",
    "    for _ in range(max_iters):\n",
    "        # Assign each data point to the closest centroid\n",
    "        for i, x in enumerate(X):\n",
    "            distances = np.linalg.norm(x - centroids, axis=1)\n",
    "            labels[i] = np.argmin(distances)\n",
    "\n",
    "        # Update centroids as the mean of all data points in each cluster\n",
    "        new_centroids = np.array([X[labels == i].mean(axis=0) for i in range(k)])\n",
    "\n",
    "        # Check for convergence\n",
    "        if np.all(centroids == new_centroids):\n",
    "            break\n",
    "\n",
    "        centroids = new_centroids\n",
    "\n",
    "    return centroids, labels\n",
    "\n",
    "# Example usage\n",
    "X = np.array([[1, 2], [1, 4], [1, 0], [4, 2], [4, 4], [4, 0]])\n",
    "k = 2\n",
    "\n",
    "centroids, labels = kmeans(X, k)\n",
    "\n",
    "print(\"Centroids:\")\n",
    "print(centroids)\n",
    "\n",
    "print(\"Labels:\")\n",
    "print(labels)"
   ]
  }
 ],
 "metadata": {
  "kernelspec": {
   "display_name": "base",
   "language": "python",
   "name": "python3"
  },
  "language_info": {
   "codemirror_mode": {
    "name": "ipython",
    "version": 3
   },
   "file_extension": ".py",
   "mimetype": "text/x-python",
   "name": "python",
   "nbconvert_exporter": "python",
   "pygments_lexer": "ipython3",
   "version": "3.11.5"
  }
 },
 "nbformat": 4,
 "nbformat_minor": 2
}
