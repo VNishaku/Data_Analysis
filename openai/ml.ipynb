{
 "cells": [
  {
   "cell_type": "code",
   "execution_count": 1,
   "metadata": {},
   "outputs": [],
   "source": [
    "import pandas as pd;\n",
    "import numpy as np;\n",
    "import matplotlib.pyplot as mpt  \n",
    "from sklearn.model_selection import train_test_split;\n",
    "# Load the dataset and split it into features (X) and target variable (y).\n",
    "data_set = pd.read_csv('https://raw.githubusercontent.com/MainakRepositor/Datasets/master/Chennai%20rain/chennai_reservoir_levels.csv')"
   ]
  },
  {
   "cell_type": "code",
   "execution_count": 2,
   "metadata": {},
   "outputs": [],
   "source": [
    "x= data_set.iloc[:,:-1].values  "
   ]
  },
  {
   "cell_type": "code",
   "execution_count": 3,
   "metadata": {},
   "outputs": [],
   "source": [
    "y= data_set.iloc[:,3].values "
   ]
  },
  {
   "cell_type": "code",
   "execution_count": 4,
   "metadata": {},
   "outputs": [],
   "source": [
    "#handling missing data (Replacing missing data with the mean value)  \n",
    "from sklearn.impute import SimpleImputer \n",
    "imputer= SimpleImputer(missing_values =np.nan, strategy='mean')  \n",
    "#Fitting imputer object to the independent variables x.   \n",
    "imputerimputer= imputer.fit(x[:, 1:3])  \n",
    "#Replacing missing data with the calculated mean value  \n",
    "x[:, 1:3]= imputer.transform(x[:, 1:3])  "
   ]
  },
  {
   "cell_type": "code",
   "execution_count": null,
   "metadata": {},
   "outputs": [],
   "source": [
    "from ydata_profiling import ProfileReport"
   ]
  },
  {
   "cell_type": "code",
   "execution_count": null,
   "metadata": {},
   "outputs": [],
   "source": [
    "profile=ProfileReport(data_set)\n",
    "profile.to_file(output_file=\"crl.html\")"
   ]
  },
  {
   "cell_type": "code",
   "execution_count": 5,
   "metadata": {},
   "outputs": [],
   "source": [
    "#Catgorical data  \n",
    "#for Country Variable  \n",
    "from sklearn.preprocessing import LabelEncoder  \n",
    "label_encoder_x= LabelEncoder()  \n",
    "x[:, 0]= label_encoder_x.fit_transform(x[:, 0])  "
   ]
  },
  {
   "cell_type": "code",
   "execution_count": 9,
   "metadata": {},
   "outputs": [],
   "source": [
    "#for Country Variable  \n",
    "from sklearn.preprocessing import LabelEncoder, OneHotEncoder  \n",
    "label_encoder_x= LabelEncoder()  \n",
    "x[:, 0]= label_encoder_x.fit_transform(x[:, 0])  \n",
    "#Encoding for dummy variables  \n",
    "# onehot_encoder= OneHotEncoder(categorical_features= [0])    \n",
    "# x= onehot_encoder.fit_transform(x).toarray() \n",
    "labelencoder_y= LabelEncoder()  \n",
    "y= labelencoder_y.fit_transform(y)   "
   ]
  },
  {
   "cell_type": "code",
   "execution_count": 10,
   "metadata": {},
   "outputs": [],
   "source": [
    "from sklearn.model_selection import train_test_split  \n",
    "x_train, x_test, y_train, y_test= train_test_split(x, y, test_size= 0.2, random_state=0)  "
   ]
  },
  {
   "cell_type": "code",
   "execution_count": 11,
   "metadata": {},
   "outputs": [],
   "source": [
    "from sklearn.preprocessing import StandardScaler  "
   ]
  },
  {
   "cell_type": "code",
   "execution_count": 12,
   "metadata": {},
   "outputs": [],
   "source": [
    "st_x= StandardScaler()  \n",
    "x_train= st_x.fit_transform(x_train)  \n",
    "x_test= st_x.transform(x_test)  \n"
   ]
  },
  {
   "cell_type": "markdown",
   "metadata": {},
   "source": [
    "## Data processing step:-\n",
    "# importing libraries  \n",
    "import numpy as nm  \n",
    "import matplotlib.pyplot as mtp  \n",
    "import pandas as pd  \n",
    "  \n",
    "# importing datasets  \n",
    "data_set= pd.read_csv('Dataset.csv')  \n",
    "  \n",
    "# Extracting Independent Variable  \n",
    "x= data_set.iloc[:, :-1].values  \n",
    "  \n",
    "# Extracting Dependent variable  \n",
    "y= data_set.iloc[:, 3].values  \n",
    "  \n",
    "# handling missing data(Replacing missing data with the mean value)  \n",
    "from sklearn.preprocessing import Imputer  \n",
    "imputer= Imputer(missing_values ='NaN', strategy='mean', axis = 0)  \n",
    "  \n",
    "# Fitting imputer object to the independent varibles x.   \n",
    "imputerimputer= imputer.fit(x[:, 1:3])  \n",
    "  \n",
    "# Replacing missing data with the calculated mean value  \n",
    "x[:, 1:3]= imputer.transform(x[:, 1:3])  \n",
    "  \n",
    "# for Country Variable  \n",
    "from sklearn.preprocessing import LabelEncoder, OneHotEncoder  \n",
    "label_encoder_x= LabelEncoder()  \n",
    "x[:, 0]= label_encoder_x.fit_transform(x[:, 0])  \n",
    "  \n",
    "# Encoding for dummy variables  \n",
    "onehot_encoder= OneHotEncoder(categorical_features= [0])    \n",
    "x= onehot_encoder.fit_transform(x).toarray()  \n",
    "  \n",
    "# encoding for purchased variable  \n",
    "labelencoder_y= LabelEncoder()  \n",
    "y= labelencoder_y.fit_transform(y)  \n",
    "  \n",
    "# Splitting the dataset into training and test set.  \n",
    "from sklearn.model_selection import train_test_split  \n",
    "x_train, x_test, y_train, y_test= train_test_split(x, y, test_size= 0.2, random_state=0)  \n",
    "  \n",
    "# Feature Scaling of datasets  \n",
    "from sklearn.preprocessing import StandardScaler  \n",
    "st_x= StandardScaler()  \n",
    "x_train= st_x.fit_transform(x_train)  \n",
    "x_test= st_x.transform(x_test)  \n"
   ]
  }
 ],
 "metadata": {
  "kernelspec": {
   "display_name": "Python 3",
   "language": "python",
   "name": "python3"
  },
  "language_info": {
   "codemirror_mode": {
    "name": "ipython",
    "version": 3
   },
   "file_extension": ".py",
   "mimetype": "text/x-python",
   "name": "python",
   "nbconvert_exporter": "python",
   "pygments_lexer": "ipython3",
   "version": "3.10.11"
  }
 },
 "nbformat": 4,
 "nbformat_minor": 2
}
